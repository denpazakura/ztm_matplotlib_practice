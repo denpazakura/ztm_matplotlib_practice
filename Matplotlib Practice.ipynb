{
 "cells": [
  {
   "cell_type": "markdown",
   "id": "7ba85427-44ba-46b5-a284-e63837a85a6a",
   "metadata": {},
   "source": [
    "# Matplotlib Practice"
   ]
  },
  {
   "cell_type": "markdown",
   "id": "daed52a6",
   "metadata": {},
   "source": [
    "https://github.com/mrdbourke/zero-to-mastery-ml/blob/master/section-2-data-science-and-ml-tools/numpy-exercises.ipynb"
   ]
  },
  {
   "cell_type": "code",
   "execution_count": null,
   "id": "d7cc4483",
   "metadata": {},
   "outputs": [],
   "source": [
    "import numpy as np"
   ]
  },
  {
   "cell_type": "code",
   "execution_count": null,
   "id": "05201451",
   "metadata": {},
   "outputs": [],
   "source": [
    "one_dim_array = np.array([1, 2, 3])\n",
    "one_dim_array.shape\n",
    "\n",
    "two_dim_array = np.array([[1, 2, 3], \n",
    "                        [4, 5, 6]])\n",
    "\n",
    "three_dim_array = np.ones((3,3))\n",
    "three_dim_array, two_dim_array.shape, type(three_dim_array)"
   ]
  },
  {
   "cell_type": "code",
   "execution_count": null,
   "id": "effbc11b",
   "metadata": {},
   "outputs": [],
   "source": [
    "def print_array_info(array):\n",
    "    print(\"Shape:\", array.shape)\n",
    "    print(\"Data type:\", array.dtype)\n",
    "    print(\"Type:\", type(array))\n",
    "    print(\"Number of dimensions:\", array.ndim)\n",
    "    print(\"Size:\", array.size)\n",
    "    print(\"-\" * 40)\n",
    "\n",
    "print_array_info(one_dim_array)\n",
    "print_array_info(two_dim_array)\n",
    "print_array_info(three_dim_array)\n"
   ]
  },
  {
   "cell_type": "code",
   "execution_count": null,
   "id": "e153be41",
   "metadata": {},
   "outputs": [],
   "source": [
    "import pandas as pd"
   ]
  },
  {
   "cell_type": "code",
   "execution_count": null,
   "id": "61b761fa",
   "metadata": {},
   "outputs": [],
   "source": [
    "data_frame = pd.DataFrame(three_dim_array)\n",
    "data_frame"
   ]
  },
  {
   "cell_type": "code",
   "execution_count": null,
   "id": "63ec009a",
   "metadata": {},
   "outputs": [],
   "source": [
    "# Create an array of shape (10, 2) with only ones\n",
    "ones = np.ones((10,2)) \n",
    "ones"
   ]
  },
  {
   "cell_type": "code",
   "execution_count": null,
   "id": "fcecaa32",
   "metadata": {},
   "outputs": [],
   "source": [
    "# Create an array of shape (7, 2, 3) of only zeros\n",
    "zeroes = np.zeros((7, 2, 3))\n",
    "zeroes"
   ]
  },
  {
   "cell_type": "code",
   "execution_count": null,
   "id": "f08ec1a7",
   "metadata": {},
   "outputs": [],
   "source": [
    "# Create an array within a range of 0 and 100 with step 3\n",
    "ranged = np.arange(0, 100, 3)\n",
    "ranged"
   ]
  },
  {
   "cell_type": "code",
   "execution_count": null,
   "id": "f4cb1045",
   "metadata": {},
   "outputs": [],
   "source": [
    "# Create a random array with numbers between 0 and 10 of size (7, 2)\n",
    "\n",
    "randomized = np.random.randint(0, 10, size=(7,2))\n",
    "randomized"
   ]
  },
  {
   "cell_type": "code",
   "execution_count": null,
   "id": "a7b021fc",
   "metadata": {},
   "outputs": [],
   "source": [
    "# Create a random array of floats between 0 & 1 of shape (3, 5)\n",
    "random_fl = np.random.random((7,2))\n",
    "random_fl"
   ]
  },
  {
   "cell_type": "code",
   "execution_count": null,
   "id": "c85bacfa",
   "metadata": {},
   "outputs": [],
   "source": [
    "# Set the random seed to 42\n",
    "np.random.seed(seed=42)\n",
    "\n",
    "# Create a random array of numbers between 0 & 10 of size (4, 6)\n",
    "randomized = np.random.randint(0, 10, size=(4, 6))\n",
    "randomized\n",
    "\n",
    "# The output of this array will always be the same, because setting random seed gives the opportunity for reproducible results."
   ]
  },
  {
   "cell_type": "code",
   "execution_count": null,
   "id": "e497c478",
   "metadata": {},
   "outputs": [],
   "source": [
    "# Create an array of random numbers between 1 & 10 of size (3, 7)\n",
    "# and save it to a variable\n",
    "randomized2 = np.random.randint(1, 10, size=(3, 7))\n",
    "\n",
    "# Find the unique numbers in the array you just created\n",
    "print(\"Array created:\", randomized2)\n",
    "print(\"Unique numbers:\", np.unique(randomized2))"
   ]
  },
  {
   "cell_type": "code",
   "execution_count": null,
   "id": "582b7c32",
   "metadata": {},
   "outputs": [],
   "source": [
    "# Find the 0'th index of the latest array you created\n",
    "print(\"0th index:\", randomized2[0])"
   ]
  },
  {
   "cell_type": "code",
   "execution_count": null,
   "id": "17ae416b",
   "metadata": {},
   "outputs": [],
   "source": [
    "# Get the first 2 rows of latest array you created\n",
    "# a fancy output\n",
    "df = pd.DataFrame(randomized2[:2])\n",
    "\n",
    "print(\"First 2 rows:\")\n",
    "display(df)"
   ]
  },
  {
   "cell_type": "code",
   "execution_count": null,
   "id": "a1b35888",
   "metadata": {},
   "outputs": [],
   "source": [
    "# Get the first 2 values of the first 2 rows of the latest array\n",
    "df = pd.DataFrame(randomized2[:2, :2])\n",
    "\n",
    "print(\"First 2 values of the first 2 rows:\")\n",
    "display(df)"
   ]
  },
  {
   "cell_type": "code",
   "execution_count": null,
   "id": "793e707d",
   "metadata": {},
   "outputs": [],
   "source": [
    "# Create a random array of numbers between 0 & 10 and an array of ones\n",
    "# both of size (3, 5), save them both to variables\n",
    "\n",
    "first_array = np.random.randint(0, 10, size=(3,5))\n",
    "second_array = np.ones((3,5))"
   ]
  },
  {
   "cell_type": "code",
   "execution_count": null,
   "id": "091e9cdf",
   "metadata": {},
   "outputs": [],
   "source": [
    "# Add the two arrays together\n",
    "sum1 = pd.DataFrame(first_array + second_array)\n",
    "\n",
    "print(\"first_array + second_array:\")\n",
    "display(sum1)\n",
    "print(\"-\" * 24)"
   ]
  },
  {
   "cell_type": "code",
   "execution_count": null,
   "id": "f64e2321",
   "metadata": {},
   "outputs": [],
   "source": [
    "# Create another array of ones of shape (5, 3)\n",
    "third_array = np.ones((5, 3))\n",
    "\n",
    "# Try add the array of ones and the other most recent array together\n",
    "# transposing the third array so it can be added\n",
    "\n",
    "third_array = np.ones((5, 3)).T\n",
    "sum2 = pd.DataFrame(second_array + third_array)\n",
    "\n",
    "print(\"second_array + third_array:\")\n",
    "display(sum2)\n",
    "print(\"-\" * 24)"
   ]
  },
  {
   "cell_type": "code",
   "execution_count": null,
   "id": "29966509",
   "metadata": {},
   "outputs": [],
   "source": [
    "# Create another array of ones of shape (3, 5)\n",
    "fourth_array = np.ones((3, 5))"
   ]
  },
  {
   "cell_type": "code",
   "execution_count": null,
   "id": "521c6e88",
   "metadata": {},
   "outputs": [],
   "source": [
    "# Subtract the new array of ones from the other most recent array\n",
    "diff = pd.DataFrame(third_array - fourth_array)\n",
    "\n",
    "print(\"third_array - fourth_array:\")\n",
    "display(diff)\n",
    "print(\"-\" * 24)"
   ]
  },
  {
   "cell_type": "code",
   "execution_count": null,
   "id": "501d62ee",
   "metadata": {},
   "outputs": [],
   "source": [
    "# Multiply the ones array with the latest array\n",
    "mult = pd.DataFrame(third_array * fourth_array)\n",
    "\n",
    "print(\"third_array * fourth_array:\")\n",
    "display(mult)\n",
    "print(\"-\" * 24)"
   ]
  },
  {
   "cell_type": "code",
   "execution_count": null,
   "id": "7b6f732c",
   "metadata": {},
   "outputs": [],
   "source": [
    "# Take the latest array to the power of 2 using '**'\n",
    "third_array ** 2"
   ]
  },
  {
   "cell_type": "code",
   "execution_count": null,
   "id": "b79f9bcf",
   "metadata": {},
   "outputs": [],
   "source": [
    "# Do the same thing with np.square()\n",
    "np.square(third_array)"
   ]
  },
  {
   "cell_type": "code",
   "execution_count": null,
   "id": "2e39aad4",
   "metadata": {},
   "outputs": [],
   "source": [
    "# Find the mean of the latest array using np.mean()\n",
    "np.mean(third_array)"
   ]
  },
  {
   "cell_type": "code",
   "execution_count": null,
   "id": "20ca1f90",
   "metadata": {},
   "outputs": [],
   "source": [
    "# Find the maximum of the latest array using np.max()\n",
    "np.max(third_array)"
   ]
  },
  {
   "cell_type": "code",
   "execution_count": null,
   "id": "757546cc",
   "metadata": {},
   "outputs": [],
   "source": [
    "# Find the minimum of the latest array using np.min()\n",
    "np.min(third_array)"
   ]
  },
  {
   "cell_type": "code",
   "execution_count": null,
   "id": "63c354a8",
   "metadata": {},
   "outputs": [],
   "source": [
    "# Find the standard deviation of the latest array\n",
    "np.std(third_array)"
   ]
  },
  {
   "cell_type": "code",
   "execution_count": null,
   "id": "4761d46b",
   "metadata": {},
   "outputs": [],
   "source": [
    "# Find the variance of the latest array\n",
    "np.var(third_array)"
   ]
  },
  {
   "cell_type": "code",
   "execution_count": null,
   "id": "e25bb72b",
   "metadata": {},
   "outputs": [],
   "source": [
    "# Reshape the latest array to (3,5,1)\n",
    "third_array.reshape(3,5,1)"
   ]
  },
  {
   "cell_type": "code",
   "execution_count": null,
   "id": "f4a820a4",
   "metadata": {},
   "outputs": [],
   "source": [
    "# Transpose the latest array\n",
    "third_array_transposed = third_array.T\n",
    "third_array_transposed\n",
    "third_array_transposed.shape\n",
    "# The shape of the array has changed from (3, 5 ,1) to (1, 5, 3)"
   ]
  },
  {
   "cell_type": "code",
   "execution_count": null,
   "id": "55666fa0",
   "metadata": {},
   "outputs": [],
   "source": [
    "# Create 2 arrays of random integers between 0 to 10\n",
    "# one of size (3, 3) the other of size (3, 2)\n",
    "first_random = np.random.randint(10, size=(3,3))\n",
    "second_random = np.random.randint(10, size=(3,2))\n",
    "first_random, second_random"
   ]
  },
  {
   "cell_type": "code",
   "execution_count": null,
   "id": "6024b82d",
   "metadata": {},
   "outputs": [],
   "source": [
    "# Perform a dot product on the two newest arrays you've created\n",
    "result = np.dot(first_random, second_random)\n",
    "result"
   ]
  },
  {
   "cell_type": "code",
   "execution_count": null,
   "id": "a8767f97",
   "metadata": {},
   "outputs": [],
   "source": [
    "# Create 2 arrays of random integers between 0 to 10\n",
    "# both of size (4, 3)\n",
    "first_random = np.random.randint(10, size=(4,3))\n",
    "second_random = np.random.randint(10, size=(4,3))\n",
    "# result = np.dot(first_random, second_random) doesn't work since the shape isn't aligned as the number of columns \n",
    "# in the first matrix (3) does not match the number of rows in the second matrix (4).\n",
    "\n",
    "result = np.dot(first_random, second_random.T)\n",
    "result"
   ]
  },
  {
   "cell_type": "code",
   "execution_count": null,
   "id": "0025d25d",
   "metadata": {},
   "outputs": [],
   "source": [
    "# Create 2 arrays of random integers between 0 to 10 of the same shape\n",
    "# and save them to variables\n",
    "first_random = np.random.randint(10, size=(3,5))\n",
    "second_random = np.random.randint(10, size=(3,5))\n",
    "\n",
    "first_random, second_random"
   ]
  },
  {
   "cell_type": "code",
   "execution_count": null,
   "id": "ec516b2e",
   "metadata": {},
   "outputs": [],
   "source": [
    "# Compare the two arrays with '>'\n",
    "first_random > second_random"
   ]
  },
  {
   "cell_type": "code",
   "execution_count": null,
   "id": "e586c266",
   "metadata": {},
   "outputs": [],
   "source": [
    "# Compare the two arrays with '>='\n",
    "first_random >= second_random"
   ]
  },
  {
   "cell_type": "code",
   "execution_count": null,
   "id": "94d90512",
   "metadata": {},
   "outputs": [],
   "source": [
    "# Find which elements of the first array are greater than 7\n",
    "bool_array = first_random > 7\n",
    "bool_array"
   ]
  },
  {
   "cell_type": "code",
   "execution_count": null,
   "id": "e726021e",
   "metadata": {},
   "outputs": [],
   "source": [
    "# Which parts of each array are equal?\n",
    "first_random == second_random"
   ]
  },
  {
   "cell_type": "code",
   "execution_count": null,
   "id": "a70aae5b",
   "metadata": {},
   "outputs": [],
   "source": [
    "# Sort one of the arrays you just created in ascending order\n",
    "np.sort(second_random)"
   ]
  },
  {
   "cell_type": "code",
   "execution_count": null,
   "id": "0acacfc1",
   "metadata": {},
   "outputs": [],
   "source": [
    "# Sort the indexes of one of the arrays you just created\n",
    "np.argsort(first_random)"
   ]
  },
  {
   "cell_type": "code",
   "execution_count": null,
   "id": "a4d796c5",
   "metadata": {},
   "outputs": [],
   "source": [
    "# Find the index of the maximum value in one of the arrays you just created\n",
    "print(\"Maximum value:\", np.argmax(first_random))"
   ]
  },
  {
   "cell_type": "code",
   "execution_count": null,
   "id": "c2caac2b",
   "metadata": {},
   "outputs": [],
   "source": [
    "# Find the index of the minimum value in one of the arrays you just created\n",
    "print(\"Minimum value:\", np.argmin(first_random))"
   ]
  },
  {
   "cell_type": "code",
   "execution_count": null,
   "id": "a8a47469",
   "metadata": {},
   "outputs": [],
   "source": [
    "# Find the index with the maximum values down the 1st axis (axis=1)\n",
    "# of one of the arrays you just created\n",
    "result = np.argmax(first_random, axis=1)\n",
    "print(\"Maximum values:\", result)"
   ]
  },
  {
   "cell_type": "code",
   "execution_count": null,
   "id": "cf83e913",
   "metadata": {},
   "outputs": [],
   "source": [
    "# Find the index with the minimum values down the 0th axis (axis=0)\n",
    "# of one of the arrays you just created\n",
    "result = np.argmin(first_random, axis=0)\n",
    "print(\"Minimum values:\", result)"
   ]
  },
  {
   "cell_type": "raw",
   "id": "c545363c",
   "metadata": {},
   "source": [
    "# Create an array of normally distributed random numbers\n",
    "normal_random = np.random.normal(size=(10,12))\n",
    "print(\"Array created:\", normal_random)"
   ]
  },
  {
   "cell_type": "code",
   "execution_count": null,
   "id": "1e3e07d8",
   "metadata": {},
   "outputs": [],
   "source": [
    "# Create an array with 10 evenly spaced numbers between 1 and 100\n",
    "range_array = np.arange(1, 100, 10)\n",
    "print(\"Array created:\", range_array)"
   ]
  },
  {
   "cell_type": "code",
   "execution_count": null,
   "id": "ed92afd2-5e10-445b-b10d-0e32785ebfaf",
   "metadata": {},
   "outputs": [],
   "source": [
    "# Import the pyplot module from matplotlib as plt and make sure \n",
    "# plots appear in the notebook using '%matplotlib inline'\n",
    "%matplotlib inline \n",
    "# * this command is no longer needed while working with newer versions of Jupyter Notebook \n",
    "import matplotlib\n",
    "import matplotlib.pyplot as plt"
   ]
  },
  {
   "cell_type": "code",
   "execution_count": null,
   "id": "38e758f8-5b2c-4ca8-92ef-03d8a270a0de",
   "metadata": {},
   "outputs": [],
   "source": [
    "# Create a simple plot using plt.plot()\n",
    "plt.plot();"
   ]
  },
  {
   "cell_type": "code",
   "execution_count": null,
   "id": "876fef3a-70af-4380-bcc4-fe79a0181d60",
   "metadata": {},
   "outputs": [],
   "source": [
    "# Plot a single Python list\n",
    "list = [100, 200, 300, 400, 500]\n",
    "plt.plot(list);"
   ]
  },
  {
   "cell_type": "code",
   "execution_count": null,
   "id": "38b9200e-1afe-4207-a64d-127085423e81",
   "metadata": {},
   "outputs": [],
   "source": [
    "# Create two lists, one called X, one called y, each with 5 numbers in them\n",
    "# Plot X & y (the lists you've created)\n",
    "X = [1, 2, 3, 4, 5]\n",
    "y = [100, 200, 300, 400, 500]\n",
    "\n",
    "plt.plot(X, y);"
   ]
  },
  {
   "cell_type": "code",
   "execution_count": null,
   "id": "36b4a0b3-80e4-4e50-a977-c78e92c357f3",
   "metadata": {},
   "outputs": [],
   "source": [
    "# Create a plot using plt.subplots()\n",
    "plt.subplots();"
   ]
  },
  {
   "cell_type": "code",
   "execution_count": null,
   "id": "d393afd2-d6d6-42a1-9113-e7912f72680c",
   "metadata": {},
   "outputs": [],
   "source": [
    "# Create a plot using plt.subplots() and then add X & y on the axes\n",
    "fig, ax = plt.subplots()\n",
    "ax.plot(X, y);"
   ]
  },
  {
   "cell_type": "code",
   "execution_count": null,
   "id": "55135c6d-1c81-44d1-a771-9c6b7ad51a79",
   "metadata": {},
   "outputs": [],
   "source": [
    "# Import and get matplotlib ready\n",
    "import matplotlib\n",
    "import matplotlib.pyplot as plt\n",
    "\n",
    "# Prepare data (create two lists of 5 numbers, X & y)\n",
    "m = [\"Jan\", \"Feb\", \"Mar\", \"Apr\", \"May\", \"Jun\", \"Jul\", \"Aug\", \"Sep\", \"Oct\", \"Nov\", \"Dec\"] # months of year\n",
    "hrs = [168, 160, 168, 168, 160, 160, 184, 160, 176, 184, 144, 160] # working hours in a month\n",
    "\n",
    "# Setup figure and axes using plt.subplots()\n",
    "fig, ax = plt.subplots(figsize=(10, 5))\n",
    "\n",
    "# Plot data\n",
    "ax.plot(m, hrs)\n",
    "\n",
    "# Customize plot\n",
    "\n",
    "ax.set(title=\"2025 Working Hours\",\n",
    "      xlabel=\"month\",\n",
    "      ylabel=\"hrs\");\n",
    "\n",
    "# 5. Save & show\n",
    "fig.savefig(\"../images/work_2025.png\")\n"
   ]
  },
  {
   "cell_type": "code",
   "execution_count": null,
   "id": "5f34b81b",
   "metadata": {},
   "outputs": [
    {
     "data": {
      "image/png": "[encoded data removed]",
      "text/plain": [
       "<Figure size 640x480 with 1 Axes>"
      ]
     },
     "metadata": {},
     "output_type": "display_data"
    }
   ],
   "source": [
    "# Make the same plot as above, except this time make the bars go horizontal\n",
    "fig, ax = plt.subplots()\n",
    "ax.barh(list(ice_cream_prices.keys()), list(ice_cream_prices.values()));"
   ]
  }
 ],
 "metadata": {
  "kernelspec": {
   "display_name": "Python 3 (ipykernel)",
   "language": "python",
   "name": "python3"
  },
  "language_info": {
   "codemirror_mode": {
    "name": "ipython",
    "version": 3
   },
   "file_extension": ".py",
   "mimetype": "text/x-python",
   "name": "python",
   "nbconvert_exporter": "python",
   "pygments_lexer": "ipython3",
   "version": "3.12.2"
  }
 },
 "nbformat": 4,
 "nbformat_minor": 5
}
